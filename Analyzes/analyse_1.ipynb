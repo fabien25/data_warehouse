{
 "cells": [
  {
   "cell_type": "code",
   "execution_count": 11,
   "metadata": {},
   "outputs": [],
   "source": [
    "import numpy as np\n",
    "import pandas as pd\n",
    "from datetime import datetime as dt\n",
    "import matplotlib.pyplot as plt\n",
    "import random\n",
    "import math"
   ]
  },
  {
   "cell_type": "code",
   "execution_count": 12,
   "metadata": {},
   "outputs": [
    {
     "data": {
      "text/html": [
       "<div>\n",
       "<style scoped>\n",
       "    .dataframe tbody tr th:only-of-type {\n",
       "        vertical-align: middle;\n",
       "    }\n",
       "\n",
       "    .dataframe tbody tr th {\n",
       "        vertical-align: top;\n",
       "    }\n",
       "\n",
       "    .dataframe thead th {\n",
       "        text-align: right;\n",
       "    }\n",
       "</style>\n",
       "<table border=\"1\" class=\"dataframe\">\n",
       "  <thead>\n",
       "    <tr style=\"text-align: right;\">\n",
       "      <th></th>\n",
       "      <th>MONTHS_SINCE_LAST</th>\n",
       "      <th>SUM(QUANTITY_OF_BLOOD)</th>\n",
       "    </tr>\n",
       "  </thead>\n",
       "  <tbody>\n",
       "    <tr>\n",
       "      <th>0</th>\n",
       "      <td>72</td>\n",
       "      <td>250</td>\n",
       "    </tr>\n",
       "    <tr>\n",
       "      <th>1</th>\n",
       "      <td>74</td>\n",
       "      <td>250</td>\n",
       "    </tr>\n",
       "    <tr>\n",
       "      <th>2</th>\n",
       "      <td>40</td>\n",
       "      <td>250</td>\n",
       "    </tr>\n",
       "    <tr>\n",
       "      <th>3</th>\n",
       "      <td>39</td>\n",
       "      <td>250</td>\n",
       "    </tr>\n",
       "    <tr>\n",
       "      <th>4</th>\n",
       "      <td>22</td>\n",
       "      <td>250</td>\n",
       "    </tr>\n",
       "  </tbody>\n",
       "</table>\n",
       "</div>"
      ],
      "text/plain": [
       "   MONTHS_SINCE_LAST  SUM(QUANTITY_OF_BLOOD)\n",
       "0                 72                     250\n",
       "1                 74                     250\n",
       "2                 40                     250\n",
       "3                 39                     250\n",
       "4                 22                     250"
      ]
     },
     "execution_count": 12,
     "metadata": {},
     "output_type": "execute_result"
    }
   ],
   "source": [
    "analyse_1 = pd.read_csv(\"analyse_1.csv\")\n",
    "analyse_1.head()"
   ]
  },
  {
   "cell_type": "code",
   "execution_count": 13,
   "metadata": {},
   "outputs": [],
   "source": [
    "months=analyse_1[\"MONTHS_SINCE_LAST\"].values\n",
    "blood=analyse_1[\"SUM(QUANTITY_OF_BLOOD)\"].values"
   ]
  },
  {
   "cell_type": "code",
   "execution_count": 14,
   "metadata": {},
   "outputs": [],
   "source": [
    "def normalisation(dataframe):\n",
    "    dataframe2 = dataframe.copy()\n",
    "    mat = dataframe.as_matrix()\n",
    "    cpt=0\n",
    "    for e in dataframe.columns :\n",
    "        mat[:,cpt] = (mat[:,cpt] - dataframe[e].min()) / (dataframe[e].max() - dataframe[e].min())\n",
    "        cpt+=1\n",
    "    return dataframe2\n",
    "\n",
    "def dist_vect(vec1,vec2):\n",
    "    somme=0\n",
    "    for a in range (len(vec1)):\n",
    "        somme=somme+math.pow(vec1[a]-vec2[a],2)\n",
    "    return math.sqrt(somme)\n",
    "\n",
    "def centroide(dataframe):\n",
    "    lr=[]\n",
    "    somme=0\n",
    "    dataframe2 = dataframe.copy()\n",
    "    mat = dataframe.as_matrix()\n",
    "    #print(mat[0])\n",
    "    for e in range (len(mat[0])):\n",
    "        somme=0\n",
    "        for a in mat[:,e]:\n",
    "            somme=somme+a\n",
    "        lr.append(somme/len(mat))\n",
    "    mat2=np.array(lr)\n",
    "    \n",
    "    dico={}\n",
    "    \n",
    "    o=0\n",
    "    for i in dataframe.columns:\n",
    "        dico[i]=[mat2[o]]\n",
    "        o=o+1\n",
    "    return pd.DataFrame(data=dico)\n",
    "\n",
    "def inertie_cluster (dataframe):\n",
    "    i=0\n",
    "    somme=0\n",
    "    ck=centroide(dataframe)\n",
    "    n=len(dataframe.index)\n",
    "    while (i<n):\n",
    "        xi=dataframe.iloc[i]\n",
    "        centro=ck.iloc[0]\n",
    "        somme+=dist_vect(centro,xi)**2\n",
    "        i=i+1\n",
    "    return somme\n",
    "\n",
    "def initialisation(K,dataframe):\n",
    "    lf = random.sample(list(dataframe.index),K)\n",
    "    mat = dataframe.as_matrix()\n",
    "    d={}\n",
    "    for e in dataframe.columns:\n",
    "        lr=[]\n",
    "        s=dataframe[e]\n",
    "        for i in lf:\n",
    "            lr.append(s[i])\n",
    "        d[e]=lr\n",
    "    return pd.DataFrame(data=d)\n",
    "\n",
    "def plus_proche(exemple,dataframe):\n",
    "    n=len(dataframe.index)\n",
    "    min=999\n",
    "    indice=-1\n",
    "    for i in range (n):\n",
    "        current=dist_vect(exemple,dataframe.iloc[i])\n",
    "        if (current<=min):\n",
    "            if (current==min):\n",
    "                if (indice<i):\n",
    "                    indice=i\n",
    "            else:\n",
    "                min=current\n",
    "                indice=i\n",
    "    return indice\n",
    "\n",
    "def affecte_cluster(data_apprentissage,centroide):\n",
    "    dico={}\n",
    "    for i in range(len(centroide.index)):\n",
    "        dico[i]=[]\n",
    "    for i in range (len(data_apprentissage.index)):\n",
    "        dico[plus_proche(data_apprentissage.iloc[i],centroide)].append(i)\n",
    "    return dico\n",
    "\n",
    "def nouveaux_centroides(data_apprentissage,dicoaff):\n",
    "    d= pd.DataFrame()\n",
    "    for key in dicoaff:\n",
    "        d=d.append(centroide(data_apprentissage.iloc[dicoaff[key]]),ignore_index=True)\n",
    "    return d\n",
    "\n",
    "def inertie_globale(base_apprentissage,dicoaff):\n",
    "    somme=0\n",
    "    for i in dicoaff:\n",
    "        l=dicoaff[i]\n",
    "        somme+=inertie_cluster(base_apprentissage.iloc[l])\n",
    "    return somme\n",
    "\n",
    "def kmoyennes(k,base,epsilon,iter_max):\n",
    "    j_prec=1000\n",
    "    j=0\n",
    "    i=0\n",
    "    while ((abs(j_prec-j)>=epsilon) and (i <= iter_max)):  \n",
    "        centroide=initialisation(k,base)\n",
    "        dicoaff=affecte_cluster(base,centroide)\n",
    "    \n",
    "        centroide2=nouveaux_centroides(base,dicoaff)\n",
    "        dicoaff2=affecte_cluster(base,centroide)\n",
    "    \n",
    "        j_prec=inertie_globale(base,dicoaff)\n",
    "        j=inertie_globale(base,dicoaff2)\n",
    "        i+=1\n",
    "        print (\"iteration\",i,\"Inertie : \", j, \"Difference:\", j-j_prec)\n",
    "    return centroide2,dicoaff2\n",
    "\n",
    "def affiche_resultat(data,centre,affec):\n",
    "    c=0\n",
    "    for i in affec.values():\n",
    "        if (c==0):\n",
    "            plt.scatter(data['X'][i],data['Y'][i],color='b')\n",
    "        if (c==1):\n",
    "            plt.scatter(data['X'][i],data['Y'][i],color='r')\n",
    "        if (c==2):\n",
    "            plt.scatter(data['X'][i],data['Y'][i],color='y')\n",
    "        c=c+1\n",
    "    plt.scatter(centre['X'],centre['Y'],color='r',marker='x')"
   ]
  },
  {
   "cell_type": "code",
   "execution_count": 15,
   "metadata": {},
   "outputs": [],
   "source": [
    "def normalize (table):\n",
    "    acc=0\n",
    "    tab2=[]\n",
    "    for i in table :\n",
    "        acc+=i\n",
    "    for i in table:\n",
    "        tab2.append(i/acc)\n",
    "    print (acc)\n",
    "    return tab2"
   ]
  },
  {
   "cell_type": "code",
   "execution_count": 16,
   "metadata": {},
   "outputs": [
    {
     "name": "stdout",
     "output_type": "stream",
     "text": [
      "600\n",
      "550250\n"
     ]
    }
   ],
   "source": [
    "dico = dict()\n",
    "tabX=[]\n",
    "tabY=[]\n",
    "#74 106000\n",
    "\n",
    "for i in months:\n",
    "    tabX.append(i)\n",
    "\n",
    "for i in blood:\n",
    "    tabY.append(i)\n",
    "    \n",
    "tabXn=normalize(tabX)\n",
    "tabYn=normalize(tabY)\n",
    "    \n",
    "dico['X']=tabXn\n",
    "dico['Y']=tabYn\n",
    "\n",
    "df = pd.DataFrame(data=dico)\n",
    "df_copy=df"
   ]
  },
  {
   "cell_type": "code",
   "execution_count": 17,
   "metadata": {},
   "outputs": [
    {
     "name": "stdout",
     "output_type": "stream",
     "text": [
      "{'X': [0.12, 0.12333333333333334, 0.06666666666666667, 0.065, 0.03666666666666667, 0.06333333333333334, 0.058333333333333334, 0.043333333333333335, 0.041666666666666664, 0.028333333333333332, 0.03, 0.03333333333333333, 0.016666666666666666, 0.025, 0.021666666666666667, 0.01, 0.0, 0.013333333333333334, 0.011666666666666667, 0.02, 0.015, 0.008333333333333333, 0.005, 0.0016666666666666668, 0.035, 0.03833333333333333, 0.02666666666666667, 0.023333333333333334, 0.018333333333333333], 'Y': [0.00045433893684688776, 0.00045433893684688776, 0.00045433893684688776, 0.00045433893684688776, 0.00045433893684688776, 0.0009086778736937755, 0.0013630168105406633, 0.002271694684234439, 0.0027260336210813267, 0.0031803725579282144, 0.004543389368468878, 0.006360745115856429, 0.007723761926397092, 0.009541117673784643, 0.011358473421172195, 0.021353930031803726, 0.023625624716038164, 0.02407996365288505, 0.030895047705588367, 0.03225806451612903, 0.04134484325306679, 0.04906860517946388, 0.051794638800545204, 0.05406633348477965, 0.05679236710586097, 0.10268059972739664, 0.12766924125397547, 0.13948205361199456, 0.1926397092230804]}\n"
     ]
    }
   ],
   "source": [
    "print (dico)"
   ]
  },
  {
   "cell_type": "code",
   "execution_count": 18,
   "metadata": {},
   "outputs": [
    {
     "name": "stdout",
     "output_type": "stream",
     "text": [
      "iteration 1 Inertie :  0.05269292610092422 Difference: 0.0\n"
     ]
    }
   ],
   "source": [
    "df_norm=normalisation(df_copy)\n",
    "les_centres, l_affectation = kmoyennes(2, df_norm, 0.3, 100)"
   ]
  },
  {
   "cell_type": "code",
   "execution_count": 19,
   "metadata": {},
   "outputs": [
    {
     "data": {
      "image/png": "[encoded data removed]",
      "text/plain": [
       "<matplotlib.figure.Figure at 0x1f32b2b5048>"
      ]
     },
     "metadata": {},
     "output_type": "display_data"
    }
   ],
   "source": [
    "affiche_resultat(df_norm,les_centres,l_affectation)\n",
    "plt.show()"
   ]
  }
 ],
 "metadata": {
  "kernelspec": {
   "display_name": "Python 3",
   "language": "python",
   "name": "python3"
  },
  "language_info": {
   "codemirror_mode": {
    "name": "ipython",
    "version": 3
   },
   "file_extension": ".py",
   "mimetype": "text/x-python",
   "name": "python",
   "nbconvert_exporter": "python",
   "pygments_lexer": "ipython3",
   "version": "3.6.4"
  }
 },
 "nbformat": 4,
 "nbformat_minor": 2
}
