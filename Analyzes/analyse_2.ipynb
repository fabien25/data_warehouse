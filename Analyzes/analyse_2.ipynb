{
 "cells": [
  {
   "cell_type": "code",
   "execution_count": 4,
   "metadata": {
    "collapsed": true
   },
   "outputs": [],
   "source": [
    "import numpy as np\n",
    "import pandas as pd\n",
    "import matplotlib.pyplot as plt\n",
    "from math import sqrt\n",
    "# Permet d'afficher les figures directement dans le notebook:\n",
    "%matplotlib inline"
   ]
  },
  {
   "cell_type": "code",
   "execution_count": 5,
   "metadata": {},
   "outputs": [],
   "source": [
    "analyse_2 = pd.read_csv(\"analyse_2.csv\")\n",
    "months=analyse_2[\"MONTHS_SINCE_LAST\"].values\n",
    "donation=analyse_2[\"NUMBER_OF_DONATION\"].values\n",
    "march=analyse_2[\"MARCH_2007\"].values"
   ]
  },
  {
   "cell_type": "code",
   "execution_count": 21,
   "metadata": {},
   "outputs": [],
   "source": [
    "tabX=[]\n",
    "tabY=[]\n",
    "label=[]\n",
    "\n",
    "for i in months:\n",
    "    tabX.append(i)\n",
    "\n",
    "for i in donation:\n",
    "    tabY.append(i)\n",
    "\n",
    "for i in march:\n",
    "    if (i==0):\n",
    "        label.append(-1)\n",
    "    else:\n",
    "        label.append(i)"
   ]
  },
  {
   "cell_type": "code",
   "execution_count": 45,
   "metadata": {
    "collapsed": true
   },
   "outputs": [],
   "source": [
    "class LabeledSet:  \n",
    "    def __init__(self, input_dimension):\n",
    "        self.input_dimension = input_dimension\n",
    "        self.nb_examples = 0\n",
    "    \n",
    "    def addExample(self,vector,label):\n",
    "        if (self.nb_examples == 0):\n",
    "            self.x = np.array([vector])\n",
    "            self.y = np.array([label])\n",
    "        else:\n",
    "            self.x = np.vstack((self.x, vector))\n",
    "            self.y = np.vstack((self.y, label))\n",
    "        \n",
    "        self.nb_examples = self.nb_examples + 1\n",
    "    \n",
    "    #Renvoie la dimension de l'espace d'entrée\n",
    "    def getInputDimension(self):\n",
    "        return self.input_dimension\n",
    "    \n",
    "    #Renvoie le nombre d'exemples dans le set\n",
    "    def size(self):\n",
    "        return self.nb_examples\n",
    "    \n",
    "    #Renvoie la valeur de x_i\n",
    "    def getX(self, i):\n",
    "        return self.x[i]\n",
    "        \n",
    "    #Renvouie la valeur de y_i\n",
    "    def getY(self, i):\n",
    "        return(self.y[i])\n",
    "\n",
    "def plot2DSet(dataset):\n",
    "    cpt=0\n",
    "    while (cpt<dataset.size()):\n",
    "        point=dataset.getX(cpt)\n",
    "        label=dataset.getY(cpt)\n",
    "        if (label==-1):\n",
    "            plt.scatter(point[0],point[1], marker='o', color='purple')\n",
    "        if (label==1):\n",
    "            plt.scatter(point[0],point[1], marker='o', color='yellow')\n",
    "        cpt+=1\n",
    "    \n",
    "class Classifier:\n",
    "    def __init__(self, input_dimension):\n",
    "        raise NotImplementedError(\"Please Implement this method\")\n",
    "    \n",
    "    #Permet de calculer la prediction sur x => renvoie un score\n",
    "    def predict(self, x):\n",
    "        raise NotImplementedError(\"Please Implement this method\")\n",
    "    \n",
    "    #Permet d'entrainer le modele sur un ensemble de données\n",
    "    def train(self, labeledSet):\n",
    "        raise NotImplementedError(\"Please Implement this method\")\n",
    "    \n",
    "    #Permet de calculer la qualité du système \n",
    "    def accuracy (self,dataset):\n",
    "        taille=dataset.size()\n",
    "        i=0\n",
    "        win=0\n",
    "        for i in range (taille):\n",
    "            predict=self.predict(dataset.getX(i))\n",
    "            #print(dataset.getY(i))\n",
    "            #print(np.sign(predict))\n",
    "            if (np.sign(predict) == np.sign(dataset.getY(i))):\n",
    "                win=win+1\n",
    "            #print (taille)\n",
    "        return win/float(taille)\n",
    "    \n",
    "def plot_frontiere(set, classifier, step=20):\n",
    "    mmax = set.x.max(0)\n",
    "    mmin = set.x.min(0)\n",
    "    x1grid, x2grid = np.meshgrid(np.linspace(mmin[0], mmax[0], step), np.linspace(mmin[1], mmax[1], step))\n",
    "    grid = np.hstack((x1grid.reshape(x1grid.size, 1), x2grid.reshape(x2grid.size, 1)))\n",
    "    \n",
    "    # calcul de la prediction pour chaque point de la grille\n",
    "    res = np.array([classifier.predict(grid[i,:]) for i in range(len(grid)) ])\n",
    "    res = res.reshape(x1grid.shape)\n",
    "    # tracé des frontieres\n",
    "    plt.contourf(x1grid, x2grid, res, colors=[\"red\", \"cyan\"], levels=[-1000,0,1000], linewidth=2)\n",
    "\n",
    "class KNN(Classifier):\n",
    "    def __init__(self, input_dimension,n):\n",
    "        self.input_dimension=input_dimension\n",
    "        self.n=n\n",
    "        \n",
    "    def distance(self,a,b):\n",
    "        sommeCarre = 0\n",
    "        for i in range(len(a)) :\n",
    "            sommeCarre += (a[i] - b[i])**2\n",
    "            \n",
    "        d = sqrt(sommeCarre)\n",
    "        return d\n",
    "    \n",
    "    def train(self,dataset):\n",
    "        self.data=dataset\n",
    "    \n",
    "    #Permet de calculer la prediction sur x => renvoie un score\n",
    "    def predict(self, x):\n",
    "        distance=[]\n",
    "        taille=self.data.size()\n",
    "        i=0\n",
    "        while (i<taille):\n",
    "            point=self.data.getX(i)\n",
    "            #if ((point[0]==x[0]) and (point[1]==x[1])):\n",
    "            #    i=i+1\n",
    "            distance.append(self.distance(x,point))\n",
    "            i=i+1\n",
    "        #print(distance)\n",
    "        #tableau des indices des valeurs par ordre croissant\n",
    "        distance_arg=np.argsort(distance)\n",
    "        #print(distance_arg)\n",
    "        i=0\n",
    "        label1=0\n",
    "        label2=0\n",
    "        #print(\"-------------\")\n",
    "        while (i<self.n):\n",
    "            #print(distance_arg[i])\n",
    "            if (self.data.getY(distance_arg[i])==1):\n",
    "                label1=label1+1\n",
    "            if (self.data.getY(distance_arg[i])==-1):\n",
    "                label2=label2+1\n",
    "            i=i+1\n",
    "        #si il y a plus de 1\n",
    "        if (label1>=label2):\n",
    "            res=1\n",
    "            return res\n",
    "        #si il y a plus de -1\n",
    "        if (label2>label1):\n",
    "            res=-1\n",
    "            return res"
   ]
  },
  {
   "cell_type": "code",
   "execution_count": 41,
   "metadata": {
    "collapsed": true
   },
   "outputs": [],
   "source": [
    "def normalize (table):\n",
    "    acc=0\n",
    "    tab2=[]\n",
    "    for i in table :\n",
    "        acc+=i\n",
    "    for i in table:\n",
    "        tab2.append(i/acc)\n",
    "    return tab2\n",
    "        \n",
    "tabXn=normalize(tabX)\n",
    "tabYn=normalize(tabY)\n",
    "labeln=normalize(label)"
   ]
  },
  {
   "cell_type": "code",
   "execution_count": 42,
   "metadata": {},
   "outputs": [],
   "source": [
    "apprentissage = LabeledSet(2)\n",
    "cpt=0\n",
    "for i in tabX :\n",
    "    apprentissage.addExample([i,tabY[cpt]],label[cpt])\n",
    "    cpt+=1"
   ]
  },
  {
   "cell_type": "code",
   "execution_count": 48,
   "metadata": {},
   "outputs": [
    {
     "name": "stderr",
     "output_type": "stream",
     "text": [
      "C:\\Users\\Fabien\\Anaconda3\\lib\\site-packages\\matplotlib\\contour.py:967: UserWarning: The following kwargs were not used by contour: 'linewidth'\n",
      "  s)\n"
     ]
    },
    {
     "data": {
      "image/png": "[encoded data removed]",
      "text/plain": [
       "<matplotlib.figure.Figure at 0x208cbdbf208>"
      ]
     },
     "metadata": {},
     "output_type": "display_data"
    }
   ],
   "source": [
    "knn=KNN(2,8)\n",
    "knn.train(apprentissage)\n",
    "plot_frontiere(apprentissage,knn,20)\n",
    "plot2DSet(apprentissage)"
   ]
  }
 ],
 "metadata": {
  "kernelspec": {
   "display_name": "Python 3",
   "language": "python",
   "name": "python3"
  },
  "language_info": {
   "codemirror_mode": {
    "name": "ipython",
    "version": 3
   },
   "file_extension": ".py",
   "mimetype": "text/x-python",
   "name": "python",
   "nbconvert_exporter": "python",
   "pygments_lexer": "ipython3",
   "version": "3.6.3"
  }
 },
 "nbformat": 4,
 "nbformat_minor": 2
}
